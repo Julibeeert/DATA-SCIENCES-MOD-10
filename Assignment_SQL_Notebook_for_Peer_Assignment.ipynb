{
  "nbformat": 4,
  "nbformat_minor": 0,
  "metadata": {
    "colab": {
      "provenance": []
    },
    "kernelspec": {
      "name": "python3",
      "display_name": "Python 3"
    },
    "language_info": {
      "name": "python"
    }
  },
  "cells": [
    {
      "cell_type": "code",
      "execution_count": 1,
      "metadata": {
        "colab": {
          "base_uri": "https://localhost:8080/"
        },
        "id": "sPQhqJfRtC97",
        "outputId": "80e2de6e-d1f8-411e-cdb4-074c09966532"
      },
      "outputs": [
        {
          "output_type": "stream",
          "name": "stdout",
          "text": [
            "Collecting sqlalchemy==1.3.9\n",
            "  Downloading SQLAlchemy-1.3.9.tar.gz (6.0 MB)\n",
            "\u001b[2K     \u001b[90m━━━━━━━━━━━━━━━━━━━━━━━━━━━━━━━━━━━━━━━━\u001b[0m \u001b[32m6.0/6.0 MB\u001b[0m \u001b[31m15.7 MB/s\u001b[0m eta \u001b[36m0:00:00\u001b[0m\n",
            "\u001b[?25h  Preparing metadata (setup.py) ... \u001b[?25l\u001b[?25hdone\n",
            "Building wheels for collected packages: sqlalchemy\n",
            "  Building wheel for sqlalchemy (setup.py) ... \u001b[?25l\u001b[?25hdone\n",
            "  Created wheel for sqlalchemy: filename=SQLAlchemy-1.3.9-cp311-cp311-linux_x86_64.whl size=1193596 sha256=a376a396a499bb97169a7851b6eebc9d6c101d30f2f9ed9c1469da3f8b70c9a6\n",
            "  Stored in directory: /root/.cache/pip/wheels/3a/7c/1e/12404784a68083eb969f877a1808a1847bab897684b56ddc55\n",
            "Successfully built sqlalchemy\n",
            "Installing collected packages: sqlalchemy\n",
            "  Attempting uninstall: sqlalchemy\n",
            "    Found existing installation: SQLAlchemy 2.0.40\n",
            "    Uninstalling SQLAlchemy-2.0.40:\n",
            "      Successfully uninstalled SQLAlchemy-2.0.40\n",
            "\u001b[31mERROR: pip's dependency resolver does not currently take into account all the packages that are installed. This behaviour is the source of the following dependency conflicts.\n",
            "langchain 0.3.25 requires SQLAlchemy<3,>=1.4, but you have sqlalchemy 1.3.9 which is incompatible.\n",
            "ipython-sql 0.5.0 requires sqlalchemy>=2.0, but you have sqlalchemy 1.3.9 which is incompatible.\u001b[0m\u001b[31m\n",
            "\u001b[0mSuccessfully installed sqlalchemy-1.3.9\n"
          ]
        }
      ],
      "source": [
        "!pip install sqlalchemy==1.3.9"
      ]
    },
    {
      "cell_type": "markdown",
      "source": [
        "\n",
        "\n",
        "1.   Elemento de la lista\n",
        "2.   Elemento de la lista\n",
        "\n",
        "\n",
        "Conectar a la base de datos\n",
        "#Cargar la extensión de SQL y establezcamos una conexión con la base de datos."
      ],
      "metadata": {
        "id": "8-dVgPootgYy"
      }
    },
    {
      "cell_type": "code",
      "source": [
        "!pip install ipython-sql\n",
        "!pip install ipython-sql prettytable"
      ],
      "metadata": {
        "colab": {
          "base_uri": "https://localhost:8080/"
        },
        "id": "b9OXNARjt3Vk",
        "outputId": "49e871c4-aa66-4ad4-a059-6dfd887c6908"
      },
      "execution_count": 2,
      "outputs": [
        {
          "output_type": "stream",
          "name": "stdout",
          "text": [
            "Requirement already satisfied: ipython-sql in /usr/local/lib/python3.11/dist-packages (0.5.0)\n",
            "Requirement already satisfied: prettytable in /usr/local/lib/python3.11/dist-packages (from ipython-sql) (3.16.0)\n",
            "Requirement already satisfied: ipython in /usr/local/lib/python3.11/dist-packages (from ipython-sql) (7.34.0)\n",
            "Collecting sqlalchemy>=2.0 (from ipython-sql)\n",
            "  Downloading sqlalchemy-2.0.41-cp311-cp311-manylinux_2_17_x86_64.manylinux2014_x86_64.whl.metadata (9.6 kB)\n",
            "Requirement already satisfied: sqlparse in /usr/local/lib/python3.11/dist-packages (from ipython-sql) (0.5.3)\n",
            "Requirement already satisfied: six in /usr/local/lib/python3.11/dist-packages (from ipython-sql) (1.17.0)\n",
            "Requirement already satisfied: ipython-genutils in /usr/local/lib/python3.11/dist-packages (from ipython-sql) (0.2.0)\n",
            "Requirement already satisfied: greenlet>=1 in /usr/local/lib/python3.11/dist-packages (from sqlalchemy>=2.0->ipython-sql) (3.2.2)\n",
            "Requirement already satisfied: typing-extensions>=4.6.0 in /usr/local/lib/python3.11/dist-packages (from sqlalchemy>=2.0->ipython-sql) (4.13.2)\n",
            "Requirement already satisfied: setuptools>=18.5 in /usr/local/lib/python3.11/dist-packages (from ipython->ipython-sql) (75.2.0)\n",
            "Collecting jedi>=0.16 (from ipython->ipython-sql)\n",
            "  Downloading jedi-0.19.2-py2.py3-none-any.whl.metadata (22 kB)\n",
            "Requirement already satisfied: decorator in /usr/local/lib/python3.11/dist-packages (from ipython->ipython-sql) (4.4.2)\n",
            "Requirement already satisfied: pickleshare in /usr/local/lib/python3.11/dist-packages (from ipython->ipython-sql) (0.7.5)\n",
            "Requirement already satisfied: traitlets>=4.2 in /usr/local/lib/python3.11/dist-packages (from ipython->ipython-sql) (5.7.1)\n",
            "Requirement already satisfied: prompt-toolkit!=3.0.0,!=3.0.1,<3.1.0,>=2.0.0 in /usr/local/lib/python3.11/dist-packages (from ipython->ipython-sql) (3.0.51)\n",
            "Requirement already satisfied: pygments in /usr/local/lib/python3.11/dist-packages (from ipython->ipython-sql) (2.19.1)\n",
            "Requirement already satisfied: backcall in /usr/local/lib/python3.11/dist-packages (from ipython->ipython-sql) (0.2.0)\n",
            "Requirement already satisfied: matplotlib-inline in /usr/local/lib/python3.11/dist-packages (from ipython->ipython-sql) (0.1.7)\n",
            "Requirement already satisfied: pexpect>4.3 in /usr/local/lib/python3.11/dist-packages (from ipython->ipython-sql) (4.9.0)\n",
            "Requirement already satisfied: wcwidth in /usr/local/lib/python3.11/dist-packages (from prettytable->ipython-sql) (0.2.13)\n",
            "Requirement already satisfied: parso<0.9.0,>=0.8.4 in /usr/local/lib/python3.11/dist-packages (from jedi>=0.16->ipython->ipython-sql) (0.8.4)\n",
            "Requirement already satisfied: ptyprocess>=0.5 in /usr/local/lib/python3.11/dist-packages (from pexpect>4.3->ipython->ipython-sql) (0.7.0)\n",
            "Downloading sqlalchemy-2.0.41-cp311-cp311-manylinux_2_17_x86_64.manylinux2014_x86_64.whl (3.3 MB)\n",
            "\u001b[2K   \u001b[90m━━━━━━━━━━━━━━━━━━━━━━━━━━━━━━━━━━━━━━━━\u001b[0m \u001b[32m3.3/3.3 MB\u001b[0m \u001b[31m65.3 MB/s\u001b[0m eta \u001b[36m0:00:00\u001b[0m\n",
            "\u001b[?25hDownloading jedi-0.19.2-py2.py3-none-any.whl (1.6 MB)\n",
            "\u001b[2K   \u001b[90m━━━━━━━━━━━━━━━━━━━━━━━━━━━━━━━━━━━━━━━━\u001b[0m \u001b[32m1.6/1.6 MB\u001b[0m \u001b[31m71.9 MB/s\u001b[0m eta \u001b[36m0:00:00\u001b[0m\n",
            "\u001b[?25hInstalling collected packages: sqlalchemy, jedi\n",
            "  Attempting uninstall: sqlalchemy\n",
            "    Found existing installation: SQLAlchemy 1.3.9\n",
            "    Uninstalling SQLAlchemy-1.3.9:\n",
            "      Successfully uninstalled SQLAlchemy-1.3.9\n",
            "Successfully installed jedi-0.19.2 sqlalchemy-2.0.41\n",
            "Requirement already satisfied: ipython-sql in /usr/local/lib/python3.11/dist-packages (0.5.0)\n",
            "Requirement already satisfied: prettytable in /usr/local/lib/python3.11/dist-packages (3.16.0)\n",
            "Requirement already satisfied: ipython in /usr/local/lib/python3.11/dist-packages (from ipython-sql) (7.34.0)\n",
            "Requirement already satisfied: sqlalchemy>=2.0 in /usr/local/lib/python3.11/dist-packages (from ipython-sql) (2.0.41)\n",
            "Requirement already satisfied: sqlparse in /usr/local/lib/python3.11/dist-packages (from ipython-sql) (0.5.3)\n",
            "Requirement already satisfied: six in /usr/local/lib/python3.11/dist-packages (from ipython-sql) (1.17.0)\n",
            "Requirement already satisfied: ipython-genutils in /usr/local/lib/python3.11/dist-packages (from ipython-sql) (0.2.0)\n",
            "Requirement already satisfied: wcwidth in /usr/local/lib/python3.11/dist-packages (from prettytable) (0.2.13)\n",
            "Requirement already satisfied: greenlet>=1 in /usr/local/lib/python3.11/dist-packages (from sqlalchemy>=2.0->ipython-sql) (3.2.2)\n",
            "Requirement already satisfied: typing-extensions>=4.6.0 in /usr/local/lib/python3.11/dist-packages (from sqlalchemy>=2.0->ipython-sql) (4.13.2)\n",
            "Requirement already satisfied: setuptools>=18.5 in /usr/local/lib/python3.11/dist-packages (from ipython->ipython-sql) (75.2.0)\n",
            "Requirement already satisfied: jedi>=0.16 in /usr/local/lib/python3.11/dist-packages (from ipython->ipython-sql) (0.19.2)\n",
            "Requirement already satisfied: decorator in /usr/local/lib/python3.11/dist-packages (from ipython->ipython-sql) (4.4.2)\n",
            "Requirement already satisfied: pickleshare in /usr/local/lib/python3.11/dist-packages (from ipython->ipython-sql) (0.7.5)\n",
            "Requirement already satisfied: traitlets>=4.2 in /usr/local/lib/python3.11/dist-packages (from ipython->ipython-sql) (5.7.1)\n",
            "Requirement already satisfied: prompt-toolkit!=3.0.0,!=3.0.1,<3.1.0,>=2.0.0 in /usr/local/lib/python3.11/dist-packages (from ipython->ipython-sql) (3.0.51)\n",
            "Requirement already satisfied: pygments in /usr/local/lib/python3.11/dist-packages (from ipython->ipython-sql) (2.19.1)\n",
            "Requirement already satisfied: backcall in /usr/local/lib/python3.11/dist-packages (from ipython->ipython-sql) (0.2.0)\n",
            "Requirement already satisfied: matplotlib-inline in /usr/local/lib/python3.11/dist-packages (from ipython->ipython-sql) (0.1.7)\n",
            "Requirement already satisfied: pexpect>4.3 in /usr/local/lib/python3.11/dist-packages (from ipython->ipython-sql) (4.9.0)\n",
            "Requirement already satisfied: parso<0.9.0,>=0.8.4 in /usr/local/lib/python3.11/dist-packages (from jedi>=0.16->ipython->ipython-sql) (0.8.4)\n",
            "Requirement already satisfied: ptyprocess>=0.5 in /usr/local/lib/python3.11/dist-packages (from pexpect>4.3->ipython->ipython-sql) (0.7.0)\n"
          ]
        }
      ]
    },
    {
      "cell_type": "code",
      "source": [
        "%load_ext sql"
      ],
      "metadata": {
        "id": "P_P-QFriuSkE"
      },
      "execution_count": 3,
      "outputs": []
    },
    {
      "cell_type": "code",
      "source": [
        "import csv, sqlite3\n",
        "import prettytable\n",
        "prettytable.DEFAULT = 'DEFAULT'\n",
        "\n",
        "con = sqlite3.connect(\"my_data1.db\")\n",
        "cur = con.cursor()"
      ],
      "metadata": {
        "id": "JEe4L67UuZWD"
      },
      "execution_count": 4,
      "outputs": []
    },
    {
      "cell_type": "code",
      "source": [
        "!pip install -q pandas"
      ],
      "metadata": {
        "id": "T1iHr4U2ucqS"
      },
      "execution_count": 5,
      "outputs": []
    },
    {
      "cell_type": "code",
      "source": [
        "%sql sqlite:///my_data1.db"
      ],
      "metadata": {
        "id": "CvtkjEkdujg2"
      },
      "execution_count": 6,
      "outputs": []
    },
    {
      "cell_type": "code",
      "source": [
        "import pandas as pd\n",
        "df = pd.read_csv(\"https://cf-courses-data.s3.us.cloud-object-storage.appdomain.cloud/IBM-DS0321EN-SkillsNetwork/labs/module_2/data/Spacex.csv\")\n",
        "df.to_sql(\"SPACEXTBL\", con, if_exists='replace', index=False,method=\"multi\")"
      ],
      "metadata": {
        "colab": {
          "base_uri": "https://localhost:8080/"
        },
        "id": "k8LbvWbPun8R",
        "outputId": "a7fffe88-36a7-44b8-8ce7-5d183b6ae9fd"
      },
      "execution_count": 7,
      "outputs": [
        {
          "output_type": "execute_result",
          "data": {
            "text/plain": [
              "101"
            ]
          },
          "metadata": {},
          "execution_count": 7
        }
      ]
    },
    {
      "cell_type": "markdown",
      "source": [
        "Nota: El siguiente código se agregó para eliminar las filas en blanco de la tabla."
      ],
      "metadata": {
        "id": "4kkrugn2u7t9"
      }
    },
    {
      "cell_type": "code",
      "source": [
        "#DROP THE TABLE IF EXISTS\n",
        "\n",
        "%sql DROP TABLE IF EXISTS SPACEXTABLE;"
      ],
      "metadata": {
        "colab": {
          "base_uri": "https://localhost:8080/"
        },
        "id": "LMdGWp08vB6Y",
        "outputId": "df4b095a-64d6-4ff7-cc5f-1b8dccb11854"
      },
      "execution_count": 8,
      "outputs": [
        {
          "output_type": "stream",
          "name": "stdout",
          "text": [
            " * sqlite:///my_data1.db\n",
            "Done.\n"
          ]
        },
        {
          "output_type": "execute_result",
          "data": {
            "text/plain": [
              "[]"
            ]
          },
          "metadata": {},
          "execution_count": 8
        }
      ]
    },
    {
      "cell_type": "code",
      "source": [
        "%sql create table SPACEXTABLE as select * from SPACEXTBL where Date is not null"
      ],
      "metadata": {
        "colab": {
          "base_uri": "https://localhost:8080/"
        },
        "id": "LfrAfoG0viYE",
        "outputId": "f04ebd22-2901-4607-f823-d9f20b9c0d8e"
      },
      "execution_count": 9,
      "outputs": [
        {
          "output_type": "stream",
          "name": "stdout",
          "text": [
            " * sqlite:///my_data1.db\n",
            "Done.\n"
          ]
        },
        {
          "output_type": "execute_result",
          "data": {
            "text/plain": [
              "[]"
            ]
          },
          "metadata": {},
          "execution_count": 9
        }
      ]
    },
    {
      "cell_type": "markdown",
      "source": [
        "\n",
        "## **Tasks**\n",
        "Ahora escribe y ejecuta consultas SQL para resolver las tareas del trabajo.\n",
        "Nota: Si los nombres de las columnas están en mayúsculas y minúsculas mezcladas, enciérralos entre comillas dobles.\n",
        "Ejemplo: \"Landing_Outcome\"\n",
        "\n",
        "**🚀 Task 1**:\n",
        "\n",
        "Muestra los nombres de los sitios de lanzamiento únicos en las misiones espaciales."
      ],
      "metadata": {
        "id": "WRqCp6sCwReu"
      }
    },
    {
      "cell_type": "code",
      "source": [
        "%sql SELECT DISTINCT \"Launch_Site\" FROM SPACEXTABLE;"
      ],
      "metadata": {
        "colab": {
          "base_uri": "https://localhost:8080/",
          "height": 162
        },
        "id": "x91gInICwlL2",
        "outputId": "1059c067-7438-4f49-8a0d-f0092530e4b7"
      },
      "execution_count": 10,
      "outputs": [
        {
          "output_type": "stream",
          "name": "stdout",
          "text": [
            " * sqlite:///my_data1.db\n",
            "Done.\n"
          ]
        },
        {
          "output_type": "execute_result",
          "data": {
            "text/plain": [
              "[('CCAFS LC-40',), ('VAFB SLC-4E',), ('KSC LC-39A',), ('CCAFS SLC-40',)]"
            ],
            "text/html": [
              "<table>\n",
              "    <thead>\n",
              "        <tr>\n",
              "            <th>Launch_Site</th>\n",
              "        </tr>\n",
              "    </thead>\n",
              "    <tbody>\n",
              "        <tr>\n",
              "            <td>CCAFS LC-40</td>\n",
              "        </tr>\n",
              "        <tr>\n",
              "            <td>VAFB SLC-4E</td>\n",
              "        </tr>\n",
              "        <tr>\n",
              "            <td>KSC LC-39A</td>\n",
              "        </tr>\n",
              "        <tr>\n",
              "            <td>CCAFS SLC-40</td>\n",
              "        </tr>\n",
              "    </tbody>\n",
              "</table>"
            ]
          },
          "metadata": {},
          "execution_count": 10
        }
      ]
    },
    {
      "cell_type": "markdown",
      "source": [
        "# **Task 2 **\n",
        "Muestra 5 registros donde los sitios de lanzamiento comiencen con la cadena 'CCA'."
      ],
      "metadata": {
        "id": "QFEngSf7xWGa"
      }
    },
    {
      "cell_type": "code",
      "source": [
        "%%sql\n",
        "SELECT *\n",
        "FROM SPACEXTABLE\n",
        "WHERE \"Launch_Site\" LIKE 'CCA%'\n",
        "LIMIT 5;\n",
        "\n"
      ],
      "metadata": {
        "colab": {
          "base_uri": "https://localhost:8080/",
          "height": 183
        },
        "id": "iM0VilcXxeej",
        "outputId": "569487a4-31dc-487d-f8a0-0945159c674b"
      },
      "execution_count": 11,
      "outputs": [
        {
          "output_type": "stream",
          "name": "stdout",
          "text": [
            " * sqlite:///my_data1.db\n",
            "Done.\n"
          ]
        },
        {
          "output_type": "execute_result",
          "data": {
            "text/plain": [
              "[('2010-06-04', '18:45:00', 'F9 v1.0  B0003', 'CCAFS LC-40', 'Dragon Spacecraft Qualification Unit', 0, 'LEO', 'SpaceX', 'Success', 'Failure (parachute)'),\n",
              " ('2010-12-08', '15:43:00', 'F9 v1.0  B0004', 'CCAFS LC-40', 'Dragon demo flight C1, two CubeSats, barrel of Brouere cheese', 0, 'LEO (ISS)', 'NASA (COTS) NRO', 'Success', 'Failure (parachute)'),\n",
              " ('2012-05-22', '7:44:00', 'F9 v1.0  B0005', 'CCAFS LC-40', 'Dragon demo flight C2', 525, 'LEO (ISS)', 'NASA (COTS)', 'Success', 'No attempt'),\n",
              " ('2012-10-08', '0:35:00', 'F9 v1.0  B0006', 'CCAFS LC-40', 'SpaceX CRS-1', 500, 'LEO (ISS)', 'NASA (CRS)', 'Success', 'No attempt'),\n",
              " ('2013-03-01', '15:10:00', 'F9 v1.0  B0007', 'CCAFS LC-40', 'SpaceX CRS-2', 677, 'LEO (ISS)', 'NASA (CRS)', 'Success', 'No attempt')]"
            ],
            "text/html": [
              "<table>\n",
              "    <thead>\n",
              "        <tr>\n",
              "            <th>Date</th>\n",
              "            <th>Time (UTC)</th>\n",
              "            <th>Booster_Version</th>\n",
              "            <th>Launch_Site</th>\n",
              "            <th>Payload</th>\n",
              "            <th>PAYLOAD_MASS__KG_</th>\n",
              "            <th>Orbit</th>\n",
              "            <th>Customer</th>\n",
              "            <th>Mission_Outcome</th>\n",
              "            <th>Landing_Outcome</th>\n",
              "        </tr>\n",
              "    </thead>\n",
              "    <tbody>\n",
              "        <tr>\n",
              "            <td>2010-06-04</td>\n",
              "            <td>18:45:00</td>\n",
              "            <td>F9 v1.0  B0003</td>\n",
              "            <td>CCAFS LC-40</td>\n",
              "            <td>Dragon Spacecraft Qualification Unit</td>\n",
              "            <td>0</td>\n",
              "            <td>LEO</td>\n",
              "            <td>SpaceX</td>\n",
              "            <td>Success</td>\n",
              "            <td>Failure (parachute)</td>\n",
              "        </tr>\n",
              "        <tr>\n",
              "            <td>2010-12-08</td>\n",
              "            <td>15:43:00</td>\n",
              "            <td>F9 v1.0  B0004</td>\n",
              "            <td>CCAFS LC-40</td>\n",
              "            <td>Dragon demo flight C1, two CubeSats, barrel of Brouere cheese</td>\n",
              "            <td>0</td>\n",
              "            <td>LEO (ISS)</td>\n",
              "            <td>NASA (COTS) NRO</td>\n",
              "            <td>Success</td>\n",
              "            <td>Failure (parachute)</td>\n",
              "        </tr>\n",
              "        <tr>\n",
              "            <td>2012-05-22</td>\n",
              "            <td>7:44:00</td>\n",
              "            <td>F9 v1.0  B0005</td>\n",
              "            <td>CCAFS LC-40</td>\n",
              "            <td>Dragon demo flight C2</td>\n",
              "            <td>525</td>\n",
              "            <td>LEO (ISS)</td>\n",
              "            <td>NASA (COTS)</td>\n",
              "            <td>Success</td>\n",
              "            <td>No attempt</td>\n",
              "        </tr>\n",
              "        <tr>\n",
              "            <td>2012-10-08</td>\n",
              "            <td>0:35:00</td>\n",
              "            <td>F9 v1.0  B0006</td>\n",
              "            <td>CCAFS LC-40</td>\n",
              "            <td>SpaceX CRS-1</td>\n",
              "            <td>500</td>\n",
              "            <td>LEO (ISS)</td>\n",
              "            <td>NASA (CRS)</td>\n",
              "            <td>Success</td>\n",
              "            <td>No attempt</td>\n",
              "        </tr>\n",
              "        <tr>\n",
              "            <td>2013-03-01</td>\n",
              "            <td>15:10:00</td>\n",
              "            <td>F9 v1.0  B0007</td>\n",
              "            <td>CCAFS LC-40</td>\n",
              "            <td>SpaceX CRS-2</td>\n",
              "            <td>677</td>\n",
              "            <td>LEO (ISS)</td>\n",
              "            <td>NASA (CRS)</td>\n",
              "            <td>Success</td>\n",
              "            <td>No attempt</td>\n",
              "        </tr>\n",
              "    </tbody>\n",
              "</table>"
            ]
          },
          "metadata": {},
          "execution_count": 11
        }
      ]
    },
    {
      "cell_type": "markdown",
      "source": [
        "\n",
        "📝 Task 3 (Traducción al español):\n",
        "Muestra la masa total de carga útil transportada por los cohetes lanzados por NASA (CRS).\n",
        "\n"
      ],
      "metadata": {
        "id": "1XVvsI0ByY48"
      }
    },
    {
      "cell_type": "code",
      "source": [
        "%sql SELECT * FROM SPACEXTABLE LIMIT 1;\n"
      ],
      "metadata": {
        "colab": {
          "base_uri": "https://localhost:8080/",
          "height": 97
        },
        "id": "SzGeSQkqymQ7",
        "outputId": "f72f273f-3697-4d09-d31d-a22b298acebd"
      },
      "execution_count": 12,
      "outputs": [
        {
          "output_type": "stream",
          "name": "stdout",
          "text": [
            " * sqlite:///my_data1.db\n",
            "Done.\n"
          ]
        },
        {
          "output_type": "execute_result",
          "data": {
            "text/plain": [
              "[('2010-06-04', '18:45:00', 'F9 v1.0  B0003', 'CCAFS LC-40', 'Dragon Spacecraft Qualification Unit', 0, 'LEO', 'SpaceX', 'Success', 'Failure (parachute)')]"
            ],
            "text/html": [
              "<table>\n",
              "    <thead>\n",
              "        <tr>\n",
              "            <th>Date</th>\n",
              "            <th>Time (UTC)</th>\n",
              "            <th>Booster_Version</th>\n",
              "            <th>Launch_Site</th>\n",
              "            <th>Payload</th>\n",
              "            <th>PAYLOAD_MASS__KG_</th>\n",
              "            <th>Orbit</th>\n",
              "            <th>Customer</th>\n",
              "            <th>Mission_Outcome</th>\n",
              "            <th>Landing_Outcome</th>\n",
              "        </tr>\n",
              "    </thead>\n",
              "    <tbody>\n",
              "        <tr>\n",
              "            <td>2010-06-04</td>\n",
              "            <td>18:45:00</td>\n",
              "            <td>F9 v1.0  B0003</td>\n",
              "            <td>CCAFS LC-40</td>\n",
              "            <td>Dragon Spacecraft Qualification Unit</td>\n",
              "            <td>0</td>\n",
              "            <td>LEO</td>\n",
              "            <td>SpaceX</td>\n",
              "            <td>Success</td>\n",
              "            <td>Failure (parachute)</td>\n",
              "        </tr>\n",
              "    </tbody>\n",
              "</table>"
            ]
          },
          "metadata": {},
          "execution_count": 12
        }
      ]
    },
    {
      "cell_type": "code",
      "source": [
        "%%sql\n",
        "SELECT SUM(\"PAYLOAD_MASS__KG_\") AS Total_Payload_Mass\n",
        "FROM SPACEXTABLE\n",
        "WHERE \"Customer\" LIKE '%NASA (CRS)%';\n",
        "\n"
      ],
      "metadata": {
        "colab": {
          "base_uri": "https://localhost:8080/",
          "height": 97
        },
        "id": "bCyKU4Z9zCMC",
        "outputId": "14b8f88b-11a3-4945-e59f-4b772f8d0468"
      },
      "execution_count": 13,
      "outputs": [
        {
          "output_type": "stream",
          "name": "stdout",
          "text": [
            " * sqlite:///my_data1.db\n",
            "Done.\n"
          ]
        },
        {
          "output_type": "execute_result",
          "data": {
            "text/plain": [
              "[(48213,)]"
            ],
            "text/html": [
              "<table>\n",
              "    <thead>\n",
              "        <tr>\n",
              "            <th>Total_Payload_Mass</th>\n",
              "        </tr>\n",
              "    </thead>\n",
              "    <tbody>\n",
              "        <tr>\n",
              "            <td>48213</td>\n",
              "        </tr>\n",
              "    </tbody>\n",
              "</table>"
            ]
          },
          "metadata": {},
          "execution_count": 13
        }
      ]
    },
    {
      "cell_type": "markdown",
      "source": [
        "\n",
        "📝 Task 4\n",
        "Muestra la masa promedio de carga útil transportada por la versión del cohete F9 v1.1."
      ],
      "metadata": {
        "id": "cbkPMnjizioW"
      }
    },
    {
      "cell_type": "code",
      "source": [
        "%%sql\n",
        "SELECT AVG(\"PAYLOAD_MASS__KG_\") AS Average_Payload_Mass\n",
        "FROM SPACEXTABLE\n",
        "WHERE \"Booster_Version\" = 'F9 v1.1';\n"
      ],
      "metadata": {
        "colab": {
          "base_uri": "https://localhost:8080/",
          "height": 97
        },
        "id": "DRuk2aLqziR5",
        "outputId": "080cdc7a-e67b-4a51-b9d3-f6f58f2e841c"
      },
      "execution_count": 14,
      "outputs": [
        {
          "output_type": "stream",
          "name": "stdout",
          "text": [
            " * sqlite:///my_data1.db\n",
            "Done.\n"
          ]
        },
        {
          "output_type": "execute_result",
          "data": {
            "text/plain": [
              "[(2928.4,)]"
            ],
            "text/html": [
              "<table>\n",
              "    <thead>\n",
              "        <tr>\n",
              "            <th>Average_Payload_Mass</th>\n",
              "        </tr>\n",
              "    </thead>\n",
              "    <tbody>\n",
              "        <tr>\n",
              "            <td>2928.4</td>\n",
              "        </tr>\n",
              "    </tbody>\n",
              "</table>"
            ]
          },
          "metadata": {},
          "execution_count": 14
        }
      ]
    },
    {
      "cell_type": "markdown",
      "source": [
        "# *Task 5 *\n",
        "Enumera (muestra) la fecha en que se logró el primer aterrizaje exitoso en una plataforma terrestre (ground pad).\n",
        "Pista: Usa la función MIN."
      ],
      "metadata": {
        "id": "-kV83zJt0ENu"
      }
    },
    {
      "cell_type": "code",
      "source": [
        "%%sql SELECT MIN(\"Date\") AS First_Successful_Ground_Landing\n",
        "FROM SPACEXTABLE\n",
        "WHERE \"Landing_Outcome\" = 'Success (ground pad)';\n",
        "\n"
      ],
      "metadata": {
        "colab": {
          "base_uri": "https://localhost:8080/",
          "height": 98
        },
        "id": "6NdaYTtWziNy",
        "outputId": "71e9ddb1-7065-4294-d4ce-e618eafefc2b"
      },
      "execution_count": null,
      "outputs": [
        {
          "output_type": "stream",
          "name": "stdout",
          "text": [
            " * sqlite:///my_data1.db\n",
            "Done.\n"
          ]
        },
        {
          "output_type": "execute_result",
          "data": {
            "text/plain": [
              "[('2015-12-22',)]"
            ],
            "text/html": [
              "<table>\n",
              "    <thead>\n",
              "        <tr>\n",
              "            <th>First_Successful_Ground_Landing</th>\n",
              "        </tr>\n",
              "    </thead>\n",
              "    <tbody>\n",
              "        <tr>\n",
              "            <td>2015-12-22</td>\n",
              "        </tr>\n",
              "    </tbody>\n",
              "</table>"
            ]
          },
          "metadata": {},
          "execution_count": 29
        }
      ]
    },
    {
      "cell_type": "markdown",
      "source": [
        "# *📝 Task 6*\n",
        "Enumera los nombres de los boosters que tuvieron éxito en el aterrizaje en una nave no tripulada (drone ship) y que transportaron una carga útil mayor a 4000 pero menor a 6000."
      ],
      "metadata": {
        "id": "RxosBbIN04z8"
      }
    },
    {
      "cell_type": "code",
      "source": [
        "%%sql\n",
        "SELECT \"Booster_Version\"\n",
        "FROM SPACEXTABLE\n",
        "WHERE \"Landing_Outcome\" = 'Success (drone ship)'\n",
        "AND \"PAYLOAD_MASS__KG_\" > 4000\n",
        "AND \"PAYLOAD_MASS__KG_\" < 6000;\n"
      ],
      "metadata": {
        "colab": {
          "base_uri": "https://localhost:8080/",
          "height": 162
        },
        "id": "G14OhmJk0_gu",
        "outputId": "a82d23d5-53cf-4806-fe0d-522aeca2c19e"
      },
      "execution_count": 15,
      "outputs": [
        {
          "output_type": "stream",
          "name": "stdout",
          "text": [
            " * sqlite:///my_data1.db\n",
            "Done.\n"
          ]
        },
        {
          "output_type": "execute_result",
          "data": {
            "text/plain": [
              "[('F9 FT B1022',), ('F9 FT B1026',), ('F9 FT  B1021.2',), ('F9 FT  B1031.2',)]"
            ],
            "text/html": [
              "<table>\n",
              "    <thead>\n",
              "        <tr>\n",
              "            <th>Booster_Version</th>\n",
              "        </tr>\n",
              "    </thead>\n",
              "    <tbody>\n",
              "        <tr>\n",
              "            <td>F9 FT B1022</td>\n",
              "        </tr>\n",
              "        <tr>\n",
              "            <td>F9 FT B1026</td>\n",
              "        </tr>\n",
              "        <tr>\n",
              "            <td>F9 FT  B1021.2</td>\n",
              "        </tr>\n",
              "        <tr>\n",
              "            <td>F9 FT  B1031.2</td>\n",
              "        </tr>\n",
              "    </tbody>\n",
              "</table>"
            ]
          },
          "metadata": {},
          "execution_count": 15
        }
      ]
    },
    {
      "cell_type": "markdown",
      "source": [
        "\n",
        "# *texto en cursiva*📝 Task 7 *\n",
        "Enumera el número total de resultados de misión exitosos y fallidos"
      ],
      "metadata": {
        "id": "4CBYNRCV1Ocx"
      }
    },
    {
      "cell_type": "code",
      "source": [
        "%%sql\n",
        "SELECT \"Mission_Outcome\", COUNT(*) AS Total\n",
        "FROM SPACEXTABLE\n",
        "GROUP BY \"Mission_Outcome\";\n"
      ],
      "metadata": {
        "colab": {
          "base_uri": "https://localhost:8080/",
          "height": 162
        },
        "id": "_xrTzyER1f3T",
        "outputId": "ff841cf2-01ee-4e31-938d-6ad6bcd8dd87"
      },
      "execution_count": 16,
      "outputs": [
        {
          "output_type": "stream",
          "name": "stdout",
          "text": [
            " * sqlite:///my_data1.db\n",
            "Done.\n"
          ]
        },
        {
          "output_type": "execute_result",
          "data": {
            "text/plain": [
              "[('Failure (in flight)', 1),\n",
              " ('Success', 98),\n",
              " ('Success ', 1),\n",
              " ('Success (payload status unclear)', 1)]"
            ],
            "text/html": [
              "<table>\n",
              "    <thead>\n",
              "        <tr>\n",
              "            <th>Mission_Outcome</th>\n",
              "            <th>Total</th>\n",
              "        </tr>\n",
              "    </thead>\n",
              "    <tbody>\n",
              "        <tr>\n",
              "            <td>Failure (in flight)</td>\n",
              "            <td>1</td>\n",
              "        </tr>\n",
              "        <tr>\n",
              "            <td>Success</td>\n",
              "            <td>98</td>\n",
              "        </tr>\n",
              "        <tr>\n",
              "            <td>Success </td>\n",
              "            <td>1</td>\n",
              "        </tr>\n",
              "        <tr>\n",
              "            <td>Success (payload status unclear)</td>\n",
              "            <td>1</td>\n",
              "        </tr>\n",
              "    </tbody>\n",
              "</table>"
            ]
          },
          "metadata": {},
          "execution_count": 16
        }
      ]
    },
    {
      "cell_type": "markdown",
      "source": [
        "# **Task 8:**\n",
        "Enumera todas las versiones de booster que han transportado la carga útil máxima. Usa una subconsulta.\n",
        "\n"
      ],
      "metadata": {
        "id": "gXN5f53G2H-K"
      }
    },
    {
      "cell_type": "code",
      "source": [
        "%%sql\n",
        "SELECT \"Booster_Version\", \"PAYLOAD_MASS__KG_\"\n",
        "FROM SPACEXTABLE\n",
        "WHERE \"PAYLOAD_MASS__KG_\" = (\n",
        "    SELECT MAX(\"PAYLOAD_MASS__KG_\") FROM SPACEXTABLE\n",
        ");\n"
      ],
      "metadata": {
        "colab": {
          "base_uri": "https://localhost:8080/",
          "height": 332
        },
        "id": "oGYmnVGb2apm",
        "outputId": "cd49a498-5aa2-4fac-e3ea-511a4a5ab71a"
      },
      "execution_count": 17,
      "outputs": [
        {
          "output_type": "stream",
          "name": "stdout",
          "text": [
            " * sqlite:///my_data1.db\n",
            "Done.\n"
          ]
        },
        {
          "output_type": "execute_result",
          "data": {
            "text/plain": [
              "[('F9 B5 B1048.4', 15600),\n",
              " ('F9 B5 B1049.4', 15600),\n",
              " ('F9 B5 B1051.3', 15600),\n",
              " ('F9 B5 B1056.4', 15600),\n",
              " ('F9 B5 B1048.5', 15600),\n",
              " ('F9 B5 B1051.4', 15600),\n",
              " ('F9 B5 B1049.5', 15600),\n",
              " ('F9 B5 B1060.2 ', 15600),\n",
              " ('F9 B5 B1058.3 ', 15600),\n",
              " ('F9 B5 B1051.6', 15600),\n",
              " ('F9 B5 B1060.3', 15600),\n",
              " ('F9 B5 B1049.7 ', 15600)]"
            ],
            "text/html": [
              "<table>\n",
              "    <thead>\n",
              "        <tr>\n",
              "            <th>Booster_Version</th>\n",
              "            <th>PAYLOAD_MASS__KG_</th>\n",
              "        </tr>\n",
              "    </thead>\n",
              "    <tbody>\n",
              "        <tr>\n",
              "            <td>F9 B5 B1048.4</td>\n",
              "            <td>15600</td>\n",
              "        </tr>\n",
              "        <tr>\n",
              "            <td>F9 B5 B1049.4</td>\n",
              "            <td>15600</td>\n",
              "        </tr>\n",
              "        <tr>\n",
              "            <td>F9 B5 B1051.3</td>\n",
              "            <td>15600</td>\n",
              "        </tr>\n",
              "        <tr>\n",
              "            <td>F9 B5 B1056.4</td>\n",
              "            <td>15600</td>\n",
              "        </tr>\n",
              "        <tr>\n",
              "            <td>F9 B5 B1048.5</td>\n",
              "            <td>15600</td>\n",
              "        </tr>\n",
              "        <tr>\n",
              "            <td>F9 B5 B1051.4</td>\n",
              "            <td>15600</td>\n",
              "        </tr>\n",
              "        <tr>\n",
              "            <td>F9 B5 B1049.5</td>\n",
              "            <td>15600</td>\n",
              "        </tr>\n",
              "        <tr>\n",
              "            <td>F9 B5 B1060.2 </td>\n",
              "            <td>15600</td>\n",
              "        </tr>\n",
              "        <tr>\n",
              "            <td>F9 B5 B1058.3 </td>\n",
              "            <td>15600</td>\n",
              "        </tr>\n",
              "        <tr>\n",
              "            <td>F9 B5 B1051.6</td>\n",
              "            <td>15600</td>\n",
              "        </tr>\n",
              "        <tr>\n",
              "            <td>F9 B5 B1060.3</td>\n",
              "            <td>15600</td>\n",
              "        </tr>\n",
              "        <tr>\n",
              "            <td>F9 B5 B1049.7 </td>\n",
              "            <td>15600</td>\n",
              "        </tr>\n",
              "    </tbody>\n",
              "</table>"
            ]
          },
          "metadata": {},
          "execution_count": 17
        }
      ]
    },
    {
      "cell_type": "markdown",
      "source": [
        " Task 9\n",
        "Enumera los registros que muestren:\n",
        "\n",
        "los nombres de los meses,\n",
        "\n",
        "los resultados de aterrizaje fallidos en drone ship,\n",
        "\n",
        "las versiones de los boosters,\n",
        "\n",
        "y el sitio de lanzamiento,\n",
        "para los meses del año 2015."
      ],
      "metadata": {
        "id": "8gvYqWcJ36od"
      }
    },
    {
      "cell_type": "code",
      "source": [
        "%%sql\n",
        "SELECT substr(\"Date\", 6, 2) AS Month,\n",
        "       \"Landing_Outcome\",\n",
        "       \"Booster_Version\",\n",
        "       \"Launch_Site\"\n",
        "FROM SPACEXTABLE\n",
        "WHERE \"Landing_Outcome\" = 'Failure (drone ship)'\n",
        "  AND substr(\"Date\", 0, 5) = '2015';\n"
      ],
      "metadata": {
        "colab": {
          "base_uri": "https://localhost:8080/",
          "height": 119
        },
        "id": "xlgsfxQk4Ai0",
        "outputId": "5d6df6eb-df65-434a-fdd0-79edfdf5f833"
      },
      "execution_count": 18,
      "outputs": [
        {
          "output_type": "stream",
          "name": "stdout",
          "text": [
            " * sqlite:///my_data1.db\n",
            "Done.\n"
          ]
        },
        {
          "output_type": "execute_result",
          "data": {
            "text/plain": [
              "[('01', 'Failure (drone ship)', 'F9 v1.1 B1012', 'CCAFS LC-40'),\n",
              " ('04', 'Failure (drone ship)', 'F9 v1.1 B1015', 'CCAFS LC-40')]"
            ],
            "text/html": [
              "<table>\n",
              "    <thead>\n",
              "        <tr>\n",
              "            <th>Month</th>\n",
              "            <th>Landing_Outcome</th>\n",
              "            <th>Booster_Version</th>\n",
              "            <th>Launch_Site</th>\n",
              "        </tr>\n",
              "    </thead>\n",
              "    <tbody>\n",
              "        <tr>\n",
              "            <td>01</td>\n",
              "            <td>Failure (drone ship)</td>\n",
              "            <td>F9 v1.1 B1012</td>\n",
              "            <td>CCAFS LC-40</td>\n",
              "        </tr>\n",
              "        <tr>\n",
              "            <td>04</td>\n",
              "            <td>Failure (drone ship)</td>\n",
              "            <td>F9 v1.1 B1015</td>\n",
              "            <td>CCAFS LC-40</td>\n",
              "        </tr>\n",
              "    </tbody>\n",
              "</table>"
            ]
          },
          "metadata": {},
          "execution_count": 18
        }
      ]
    },
    {
      "cell_type": "markdown",
      "source": [
        "# *Task 10 *\n",
        "Ordena (de mayor a menor) la cantidad de resultados de aterrizaje (como \"Failure (drone ship)\" o \"Success (ground pad)\") entre las fechas 2010-06-04 y 2017-03-20."
      ],
      "metadata": {
        "id": "kFBc4_X04LxV"
      }
    },
    {
      "cell_type": "code",
      "source": [
        "%%sql\n",
        "SELECT \"Landing_Outcome\", COUNT(*) AS Outcome_Count\n",
        "FROM SPACEXTABLE\n",
        "WHERE \"Date\" BETWEEN '2010-06-04' AND '2017-03-20'\n",
        "GROUP BY \"Landing_Outcome\"\n",
        "ORDER BY Outcome_Count DESC;\n"
      ],
      "metadata": {
        "colab": {
          "base_uri": "https://localhost:8080/",
          "height": 247
        },
        "id": "K5oIyZhh3WcQ",
        "outputId": "e234e5a4-f7bb-4bc4-e352-dc4fd640fe47"
      },
      "execution_count": 19,
      "outputs": [
        {
          "output_type": "stream",
          "name": "stdout",
          "text": [
            " * sqlite:///my_data1.db\n",
            "Done.\n"
          ]
        },
        {
          "output_type": "execute_result",
          "data": {
            "text/plain": [
              "[('No attempt', 10),\n",
              " ('Success (drone ship)', 5),\n",
              " ('Failure (drone ship)', 5),\n",
              " ('Success (ground pad)', 3),\n",
              " ('Controlled (ocean)', 3),\n",
              " ('Uncontrolled (ocean)', 2),\n",
              " ('Failure (parachute)', 2),\n",
              " ('Precluded (drone ship)', 1)]"
            ],
            "text/html": [
              "<table>\n",
              "    <thead>\n",
              "        <tr>\n",
              "            <th>Landing_Outcome</th>\n",
              "            <th>Outcome_Count</th>\n",
              "        </tr>\n",
              "    </thead>\n",
              "    <tbody>\n",
              "        <tr>\n",
              "            <td>No attempt</td>\n",
              "            <td>10</td>\n",
              "        </tr>\n",
              "        <tr>\n",
              "            <td>Success (drone ship)</td>\n",
              "            <td>5</td>\n",
              "        </tr>\n",
              "        <tr>\n",
              "            <td>Failure (drone ship)</td>\n",
              "            <td>5</td>\n",
              "        </tr>\n",
              "        <tr>\n",
              "            <td>Success (ground pad)</td>\n",
              "            <td>3</td>\n",
              "        </tr>\n",
              "        <tr>\n",
              "            <td>Controlled (ocean)</td>\n",
              "            <td>3</td>\n",
              "        </tr>\n",
              "        <tr>\n",
              "            <td>Uncontrolled (ocean)</td>\n",
              "            <td>2</td>\n",
              "        </tr>\n",
              "        <tr>\n",
              "            <td>Failure (parachute)</td>\n",
              "            <td>2</td>\n",
              "        </tr>\n",
              "        <tr>\n",
              "            <td>Precluded (drone ship)</td>\n",
              "            <td>1</td>\n",
              "        </tr>\n",
              "    </tbody>\n",
              "</table>"
            ]
          },
          "metadata": {},
          "execution_count": 19
        }
      ]
    }
  ]
}